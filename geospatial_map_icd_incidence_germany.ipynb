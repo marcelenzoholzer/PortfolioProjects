{
 "cells": [
  {
   "attachments": {},
   "cell_type": "markdown",
   "metadata": {},
   "source": [
    "# Geospatial Map of Germany\n",
    "\n",
    "This Jupyter Notebook contains code to demonstrate a potential visualization (a geospatial choropleth map) of standardized inpatient treatment costs of a selected ICD-10-diagnosis across german federal lands (\"Bundesländer\").\n",
    "\n",
    "A similar graph at other administrative levels (e.g. german distrcits) can be easily made by changing a few lines of the code.\n",
    "\n",
    "I identified the following necessary tasks:\n",
    "1.) find and load an adequate GeoFile (preferably a ShapeFile, shp.) --> I used an official shape file from the Federal Ministry of Cartography of Germany\n",
    "2.) create random, but reproducable data to visualize standardized inpatient treatment costs (= e.g. costs per inhabitants)\n",
    "--> data on inpatient treatment costs in Germany can be requested from \"DeStatis\", the Federal Ministry of Statistics in Germany (\"DRG-Statistik\"). However, data from the Ministry are not free. Therefore, I decided to create my own, random data.\n",
    "3.) crate a plesant and informative graph with Matplotlib (other good options would have been Plotly or Seaborn)\n"
   ]
  },
  {
   "cell_type": "code",
   "execution_count": null,
   "metadata": {
    "vscode": {
     "languageId": "r"
    }
   },
   "outputs": [],
   "source": [
    "x <- c(1, 2, 3, 10)\n",
    "print(sum(x))\n"
   ]
  }
 ],
 "metadata": {
  "kernelspec": {
   "display_name": "R",
   "language": "R",
   "name": "ir"
  },
  "language_info": {
   "codemirror_mode": {
    "name": "ipython",
    "version": 3
   },
   "file_extension": ".py",
   "mimetype": "text/x-python",
   "name": "R",
   "nbconvert_exporter": "python",
   "pygments_lexer": "ipython3",
   "version": "3.11.1"
  },
  "orig_nbformat": 4,
  "vscode": {
   "interpreter": {
    "hash": "20e40d8fc09a6690434ad602c7eb2d8de15d36ec466bfbfb0de97c7c540d7363"
   }
  }
 },
 "nbformat": 4,
 "nbformat_minor": 2
}
