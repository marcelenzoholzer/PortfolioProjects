{
 "cells": [
  {
   "attachments": {},
   "cell_type": "markdown",
   "metadata": {},
   "source": [
    "# Geospatial Map of Germany\n",
    "\n",
    "This Jupyter Notebook contains code to demonstrate a potential visualization (a geospatial choropleth map) of standardized inpatient treatment costs of a selected ICD-10-diagnosis across german federal lands (\"Bundesländer\").\n",
    "\n",
    "A similar graph at other administrative levels (e.g. german distrcits) can be easily made by changing a few lines of the code.\n",
    "\n",
    "I identified the following necessary tasks:\n",
    "\n",
    "1. find and load an adequate GeoFile (preferably a ShapeFile, shp.) --> I used an official shape file from the Federal Ministry of Cartography of Germany\n",
    "\n",
    "2. create random, but reproducable data to visualize standardized inpatient treatment costs (= e.g. costs per inhabitants)\n",
    "--> data on inpatient treatment costs in Germany can be requested from \"DeStatis\", the Federal Ministry of Statistics in Germany (\"DRG-Statistik\"). However, data from the Ministry are not free. Therefore, I decided to create my own, random data.\n",
    "\n",
    "3. create a plesant and informative graph with Matplotlib (other good options would have been Plotly or Seaborn)\n",
    "\n",
    "\n",
    "## Setup:"
   ]
  },
  {
   "cell_type": "code",
   "execution_count": null,
   "metadata": {
    "vscode": {
     "languageId": "r"
    }
   },
   "outputs": [],
   "source": [
    "# import necessary modules\n",
    "import pandas as pd\n",
    "import numpy as np\n",
    "import geopandas as gpd\n",
    "import matplotlib.pyplot as plt"
   ]
  },
  {
   "attachments": {},
   "cell_type": "markdown",
   "metadata": {},
   "source": [
    "## __1.) find and load an adequate GeoFile__\n",
    "\n",
    "At first, an adequate GeoFile had to be found and downloaded. I decided to look for officially approved GeoFiles and found the ones provided by the german Federal Ministry of Cartography. The GeoFiles for different administrative levels and in different scales can be found on the following link:\n",
    "\n",
    "https://gdz.bkg.bund.de/index.php/default/digitale-geodaten/verwaltungsgebiete.html\n",
    "\n",
    "I used the data with the 1:2 500 000 scale which can be found on this link:\n",
    "\n",
    "https://gdz.bkg.bund.de/index.php/default/digitale-geodaten/verwaltungsgebiete/verwaltungsgebiete-1-2-500-000-stand-31-12-vg2500-12-31.html\n",
    "\n",
    "Furthermore, I chose the GeoFile with the coordinate reference system (CRS) \"3-degree Gauss-Kruger zone 3\", which corresponds to the CRS EPSG:31467.\n",
    "(for an introduction to coordinate reference systems and the use of geospatial data in python, enroll in the corresponding course on https://kaggle.com/learn/geospatial-analysis)\n",
    "\n",
    "Last, but not least, I decided to use the file for the administrative level of the german federal lands (\"Bundesländer\"), which is marked by the abbreviation \"LAN\". "
   ]
  },
  {
   "cell_type": "code",
   "execution_count": null,
   "metadata": {
    "vscode": {
     "languageId": "r"
    }
   },
   "outputs": [],
   "source": [
    "# read in GeoFile\n",
    "inpatient_costs_germany = gpd.read_file(\"Path-to-GeoFile.shp\")\n",
    "\n",
    "# check CRS\n",
    "print(inpatient_costs_germany.crs)\n",
    "\n",
    "# check the data\n",
    "print(inpatient_costs_germany.head())\n",
    "print(inpatient_costs_germany.tail())\n",
    "print(inpatient_costs_germany.columns.value)\n",
    "inpatient_costs_germany.plot()\n",
    "plt.show()"
   ]
  },
  {
   "attachments": {},
   "cell_type": "markdown",
   "metadata": {},
   "source": [
    "After checking the data, I noticed that the graph showed more boundaries than expected (there are only 16 federal lands in Germany). Therefore, I read the accompanying use file provided by the Ministry of Cartography (\"Produktdokumentation VG2500\"). This use file stated that there are different boundaries on the administrative level of the federal lands, depending on whether one wants to visualize the additional areas that belong to the German State but are located in water (concerns areas in the North Sea, Baltic Sea and Lake Constance). I was only interested in the boundaries located on the land mass of Germany. That's why I used the variable \"GF\" (which stands for \"Geofactor\") to restrict the data to the land mass of Germany (= value 9):"
   ]
  },
  {
   "cell_type": "code",
   "execution_count": null,
   "metadata": {
    "vscode": {
     "languageId": "r"
    }
   },
   "outputs": [],
   "source": [
    "# restrict the data\n",
    "inpatient_costs_germany = inpatient_costs_germany.loc[inpatient_costs_germany['GF'] == 9]\n",
    "\n",
    "# check the data again\n",
    "inpatient_costs_germany.plot()\n",
    "plt.show()\n",
    "# this looks good now!"
   ]
  },
  {
   "attachments": {},
   "cell_type": "markdown",
   "metadata": {},
   "source": [
    "Then I restricted the DataFrame to the two necessary columns for the geospatial choropleth map: \"GEN\" (contains the names of the 16 german federal lands) & \"geometry\" (contains the polygons / geospatial data)"
   ]
  },
  {
   "cell_type": "code",
   "execution_count": null,
   "metadata": {
    "vscode": {
     "languageId": "r"
    }
   },
   "outputs": [],
   "source": [
    "inpatient_costs_germany = inpatient_costs_germany[['GEN', 'geometry']]\n",
    "print(inpatient_costs_germany.shape)\n",
    "print(inpatient_costs_germany.head())"
   ]
  },
  {
   "attachments": {},
   "cell_type": "markdown",
   "metadata": {},
   "source": [
    "## __2.) create random, but reproducable data__\n",
    "\n",
    "With real data, one would have to extract, clean, format, and normalize the data of the \"DRG-Statistik\" before creating the geospatial choropleth map. In my case (with random data) none of these steps are necessary. I just had to create a random array of plausible data and merge it to the DataFrame. \n",
    "\n",
    "I chose a random ICD-10-diagnosis for which I simulated to provide inpatient treatment costs per inhabitant (= normalization to account for the varying number of inhabitants in the federal lands of Germany): ICD-C34 / \"malignant neoplasm of bronchia and lung\".\n",
    "\n",
    "First, I had to come up with plausible data. Therefore, I looked for a study that calculated the average economic burden of lung cancer in the European Union. I found corresponding calculations in the following paper of Luengo-Fernandez et al. (2013): _\"Economic burden of cancer across the European Union: a population-based cost analysis\"_\n",
    "\n",
    "The paper can be found in \"The Lancet - Oncology\" on the following link:\n",
    "https://doi.org/10.1016/S1470-2045(13)70442-X\n",
    "\n",
    "Luengo-Fernandez et al. (2013) calculated that all cancer disease in the European Union cost €126 billion in 2009.\n",
    "Lung cancer had the highest economic burden of all cancer diseases, with costs of €18.8 billion - which are 15% of the total of €126 billion cancer costs in the EU. \n",
    "They also calculated that, on average, Germany spent €182 per inhabitant for health care services in relation to cancer diseases. \n",
    "\n",
    "In recourse to these calculations, I extrapolated the average cost for health care services in relation to lung cancer diseases in the following way:\n",
    "\n",
    "total health care costs per inhabitant for all cancer diseases in Germany * proportion of costs of lung cancer diseases in relation to the total costs of all cancer idseases in the EU\n",
    "= €182 * 0.15 = €27.3 per inhabitant. \n",
    "So, I assumed that the average health care costs of lung cancer diseases in Germany per inhabitant were €27.3\n"
   ]
  }
 ],
 "metadata": {
  "kernelspec": {
   "display_name": "R",
   "language": "R",
   "name": "ir"
  },
  "language_info": {
   "codemirror_mode": {
    "name": "ipython",
    "version": 3
   },
   "file_extension": ".py",
   "mimetype": "text/x-python",
   "name": "R",
   "nbconvert_exporter": "python",
   "pygments_lexer": "ipython3",
   "version": "3.11.1"
  },
  "orig_nbformat": 4,
  "vscode": {
   "interpreter": {
    "hash": "20e40d8fc09a6690434ad602c7eb2d8de15d36ec466bfbfb0de97c7c540d7363"
   }
  }
 },
 "nbformat": 4,
 "nbformat_minor": 2
}
