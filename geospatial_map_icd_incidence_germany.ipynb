{
 "cells": [
  {
   "attachments": {},
   "cell_type": "markdown",
   "metadata": {},
   "source": [
    "# Geospatial Map of Germany\n",
    "\n",
    "This Jupyter Notebook contains code to demonstrate a potential visualization (a geospatial choropleth map) of standardized inpatient treatment costs of a selected ICD-10-diagnosis across german federal lands (\"Bundesländer\").\n",
    "\n",
    "A similar graph at other administrative levels (e.g. german distrcits) can be easily made by changing a few lines of the code.\n",
    "\n",
    "I identified the following necessary tasks:\n",
    "\n",
    "1. find and load an adequate GeoFile (preferably a ShapeFile, shp.) --> I used an official shape file from the Federal Ministry of Cartography of Germany\n",
    "\n",
    "2. create random, but reproducable data to visualize standardized inpatient treatment costs (= e.g. costs per inhabitants)\n",
    "--> data on inpatient treatment costs in Germany can be requested from \"DeStatis\", the Federal Ministry of Statistics in Germany (\"DRG-Statistik\"). However, data from the Ministry are not free. Therefore, I decided to create my own, random data.\n",
    "\n",
    "3. create a plesant and informative graph with Matplotlib (other good options would have been Plotly or Seaborn)\n",
    "\n",
    "\n",
    "## Setup:"
   ]
  },
  {
   "cell_type": "code",
   "execution_count": null,
   "metadata": {
    "vscode": {
     "languageId": "r"
    }
   },
   "outputs": [],
   "source": [
    "# import necessary modules\n",
    "import pandas as pd\n",
    "import numpy as np\n",
    "import geopandas as gpd\n",
    "import matplotlib.pyplot as plt"
   ]
  },
  {
   "attachments": {},
   "cell_type": "markdown",
   "metadata": {},
   "source": [
    "__1.) find and load an adequate GeoFile__\n",
    "\n",
    "At first, an adequate GeoFile had to be found and downloaded. I decided to look for officially approved GeoFiles and found the ones provided by the german Federal Ministry of Cartography. The GeoFiles for different administrative levels and in different scales can be found on the following link:\n",
    "\n",
    "https://gdz.bkg.bund.de/index.php/default/digitale-geodaten/verwaltungsgebiete.html\n",
    "\n",
    "I used the data with the 1:2 500 000 scale which can be found on this link:\n",
    "\n",
    "https://gdz.bkg.bund.de/index.php/default/digitale-geodaten/verwaltungsgebiete/verwaltungsgebiete-1-2-500-000-stand-31-12-vg2500-12-31.html\n",
    "\n",
    "Furthermore, I chose the GeoFile with the coordinate reference system (CRS) \"3-degree Gauss-Kruger zone 3\", which corresponds to the CRS EPSG:31467 (for an introduction to coordinate reference systems and the use of geospatial data in python, enroll in the corresponding course on https://kaggle.com/learn/geospatial-analysis). \n",
    "\n",
    "Last, but not least, I decided to use the file for the administrative level of the german federal lands (\"Bundesländer\"), which is marked by the abbreviation \"LAN\". "
   ]
  },
  {
   "cell_type": "code",
   "execution_count": null,
   "metadata": {
    "vscode": {
     "languageId": "r"
    }
   },
   "outputs": [],
   "source": [
    "# read in GeoFile\n"
   ]
  }
 ],
 "metadata": {
  "kernelspec": {
   "display_name": "R",
   "language": "R",
   "name": "ir"
  },
  "language_info": {
   "codemirror_mode": {
    "name": "ipython",
    "version": 3
   },
   "file_extension": ".py",
   "mimetype": "text/x-python",
   "name": "R",
   "nbconvert_exporter": "python",
   "pygments_lexer": "ipython3",
   "version": "3.11.1"
  },
  "orig_nbformat": 4,
  "vscode": {
   "interpreter": {
    "hash": "20e40d8fc09a6690434ad602c7eb2d8de15d36ec466bfbfb0de97c7c540d7363"
   }
  }
 },
 "nbformat": 4,
 "nbformat_minor": 2
}
